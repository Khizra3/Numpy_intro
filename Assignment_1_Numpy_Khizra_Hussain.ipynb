{
  "nbformat": 4,
  "nbformat_minor": 0,
  "metadata": {
    "colab": {
      "provenance": []
    },
    "kernelspec": {
      "name": "python3",
      "display_name": "Python 3"
    },
    "language_info": {
      "name": "python"
    }
  },
  "cells": [
    {
      "cell_type": "markdown",
      "source": [
        "# **PART 1: Array creation**"
      ],
      "metadata": {
        "id": "unaAPU4g0kuk"
      }
    },
    {
      "cell_type": "code",
      "execution_count": 121,
      "metadata": {
        "id": "72n4E_BZE9kw"
      },
      "outputs": [],
      "source": [
        "import sys\n",
        "import numpy as np"
      ]
    },
    {
      "cell_type": "code",
      "source": [
        "#1.\tCreate a numpy array of size 10, filled with zeros\n",
        "\n",
        "A = np.zeros((2,10))\n",
        "A"
      ],
      "metadata": {
        "colab": {
          "base_uri": "https://localhost:8080/"
        },
        "id": "DY3eK6lhFa2n",
        "outputId": "dc9f56bb-6a0a-4ae8-f0c0-9bf49453afcf"
      },
      "execution_count": 7,
      "outputs": [
        {
          "output_type": "execute_result",
          "data": {
            "text/plain": [
              "array([[0., 0., 0., 0., 0., 0., 0., 0., 0., 0.],\n",
              "       [0., 0., 0., 0., 0., 0., 0., 0., 0., 0.]])"
            ]
          },
          "metadata": {},
          "execution_count": 7
        }
      ]
    },
    {
      "cell_type": "code",
      "source": [
        "#or\n",
        "C = np.random.random(size=10)\n",
        "D = C*0\n",
        "D"
      ],
      "metadata": {
        "colab": {
          "base_uri": "https://localhost:8080/"
        },
        "id": "pP-_fll4Hu4t",
        "outputId": "2c4f5d5c-6bda-4441-cd20-c15ca10246ea"
      },
      "execution_count": 19,
      "outputs": [
        {
          "output_type": "execute_result",
          "data": {
            "text/plain": [
              "array([0., 0., 0., 0., 0., 0., 0., 0., 0., 0.])"
            ]
          },
          "metadata": {},
          "execution_count": 19
        }
      ]
    },
    {
      "cell_type": "code",
      "source": [
        "#2.\tCreate a numpy array with values ranging from 10 to 49 and set its datatype to float\n",
        "e = np.arange(10,50, dtype= float)\n",
        "e\n"
      ],
      "metadata": {
        "colab": {
          "base_uri": "https://localhost:8080/"
        },
        "id": "JEu0rfKJGUzA",
        "outputId": "2fb0d2e6-a38b-490b-f576-e8edd36178bd"
      },
      "execution_count": 8,
      "outputs": [
        {
          "output_type": "execute_result",
          "data": {
            "text/plain": [
              "array([10., 11., 12., 13., 14., 15., 16., 17., 18., 19., 20., 21., 22.,\n",
              "       23., 24., 25., 26., 27., 28., 29., 30., 31., 32., 33., 34., 35.,\n",
              "       36., 37., 38., 39., 40., 41., 42., 43., 44., 45., 46., 47., 48.,\n",
              "       49.])"
            ]
          },
          "metadata": {},
          "execution_count": 8
        }
      ]
    },
    {
      "cell_type": "code",
      "source": [
        "#3\tCreate a numpy matrix of 2*2 integers, filled with ones.\n",
        "c = np.ones((2,2))\n",
        "c"
      ],
      "metadata": {
        "colab": {
          "base_uri": "https://localhost:8080/"
        },
        "id": "cOUH9YYW6nUv",
        "outputId": "6506bd83-49de-462e-8229-4b28baabc3a5"
      },
      "execution_count": 4,
      "outputs": [
        {
          "output_type": "execute_result",
          "data": {
            "text/plain": [
              "array([[1., 1.],\n",
              "       [1., 1.]])"
            ]
          },
          "metadata": {},
          "execution_count": 4
        }
      ]
    },
    {
      "cell_type": "code",
      "source": [
        "#4\tCreate a numpy matrix of 3*2 float numbers, filled with ones.\n",
        "f = np.ones((3,2), dtype=float)\n",
        "f"
      ],
      "metadata": {
        "colab": {
          "base_uri": "https://localhost:8080/"
        },
        "id": "5Tk1BEyxj0YN",
        "outputId": "8ea66f9a-4a1f-498b-d7a9-2c634b9c3dc1"
      },
      "execution_count": 9,
      "outputs": [
        {
          "output_type": "execute_result",
          "data": {
            "text/plain": [
              "array([[1., 1.],\n",
              "       [1., 1.],\n",
              "       [1., 1.]])"
            ]
          },
          "metadata": {},
          "execution_count": 9
        }
      ]
    },
    {
      "cell_type": "code",
      "source": [
        "#5\tGiven the X numpy array, create a new numpy array with the same shape and type as X, filled with ones. (#hint: search the function np.ones_like( ) )\n",
        "X = np.arange(6).reshape(2,3)\n",
        "X"
      ],
      "metadata": {
        "colab": {
          "base_uri": "https://localhost:8080/"
        },
        "id": "y5s2TxzMkmqT",
        "outputId": "5d8e3369-d29a-4570-bcd0-0845a917cef6"
      },
      "execution_count": 18,
      "outputs": [
        {
          "output_type": "execute_result",
          "data": {
            "text/plain": [
              "array([[0, 1, 2],\n",
              "       [3, 4, 5]])"
            ]
          },
          "metadata": {},
          "execution_count": 18
        }
      ]
    },
    {
      "cell_type": "code",
      "source": [
        "Y = np.ones_like(X)\n",
        "Y"
      ],
      "metadata": {
        "colab": {
          "base_uri": "https://localhost:8080/"
        },
        "id": "nbbdzWCMoJH8",
        "outputId": "2271e0c1-ec2a-47c1-e928-022755d557f6"
      },
      "execution_count": 16,
      "outputs": [
        {
          "output_type": "execute_result",
          "data": {
            "text/plain": [
              "array([[1, 1, 1],\n",
              "       [1, 1, 1]])"
            ]
          },
          "metadata": {},
          "execution_count": 16
        }
      ]
    },
    {
      "cell_type": "code",
      "source": [
        "#6.\tGiven the X numpy matrix, create a new numpy matrix with the same shape and type as X, filled with zeros. (hint: similar function as above exists for zeros as well)\n",
        "X = np.random.random((3,3))\n",
        "X"
      ],
      "metadata": {
        "colab": {
          "base_uri": "https://localhost:8080/"
        },
        "id": "uJF9AJHdoriT",
        "outputId": "4a820d6a-020f-43af-b0a2-43e4a825c8c4"
      },
      "execution_count": 20,
      "outputs": [
        {
          "output_type": "execute_result",
          "data": {
            "text/plain": [
              "array([[0.89053585, 0.91637294, 0.65957895],\n",
              "       [0.39742089, 0.52121061, 0.19961801],\n",
              "       [0.69547965, 0.48811188, 0.79510849]])"
            ]
          },
          "metadata": {},
          "execution_count": 20
        }
      ]
    },
    {
      "cell_type": "code",
      "source": [
        "Y = np.zeros_like(X)\n",
        "Y"
      ],
      "metadata": {
        "colab": {
          "base_uri": "https://localhost:8080/"
        },
        "id": "wCnXW1wcpC_T",
        "outputId": "9ac7bbf8-2cf2-4501-d796-be22169d945c"
      },
      "execution_count": 22,
      "outputs": [
        {
          "output_type": "execute_result",
          "data": {
            "text/plain": [
              "array([[0., 0., 0.],\n",
              "       [0., 0., 0.],\n",
              "       [0., 0., 0.]])"
            ]
          },
          "metadata": {},
          "execution_count": 22
        }
      ]
    },
    {
      "cell_type": "code",
      "source": [
        "#7.\tCreate a numpy matrix of 4*4 integers, filled with fives.\n",
        "D = np.ones((4,4), dtype=int)\n",
        "D*=5\n",
        "D"
      ],
      "metadata": {
        "colab": {
          "base_uri": "https://localhost:8080/"
        },
        "id": "is6T1tynpl4y",
        "outputId": "a7bf86c5-2fd6-4714-bdae-c8de9b62d463"
      },
      "execution_count": 32,
      "outputs": [
        {
          "output_type": "execute_result",
          "data": {
            "text/plain": [
              "array([[5, 5, 5, 5],\n",
              "       [5, 5, 5, 5],\n",
              "       [5, 5, 5, 5],\n",
              "       [5, 5, 5, 5]])"
            ]
          },
          "metadata": {},
          "execution_count": 32
        }
      ]
    },
    {
      "cell_type": "code",
      "source": [
        "# 8. Given the X numpy matrix, create a new numpy matrix with the same shape and type as X, filled with sevens.\n",
        "v = np.random.rand(3,5)\n",
        "v"
      ],
      "metadata": {
        "colab": {
          "base_uri": "https://localhost:8080/"
        },
        "id": "c2nmIhJvrEU5",
        "outputId": "b6d38af2-a5d2-40e6-e74a-ea5960ae5874"
      },
      "execution_count": 44,
      "outputs": [
        {
          "output_type": "execute_result",
          "data": {
            "text/plain": [
              "array([[0.41607725, 0.06988077, 0.34652011, 0.66811179, 0.87129824],\n",
              "       [0.70684836, 0.99672082, 0.03427108, 0.54435932, 0.3056076 ],\n",
              "       [0.38400545, 0.8503383 , 0.94630413, 0.84548977, 0.64572871]])"
            ]
          },
          "metadata": {},
          "execution_count": 44
        }
      ]
    },
    {
      "cell_type": "code",
      "source": [
        "u = np.ones_like(v)\n",
        "u*=7\n",
        "u"
      ],
      "metadata": {
        "colab": {
          "base_uri": "https://localhost:8080/"
        },
        "id": "O8HDwPe9wIet",
        "outputId": "554aff09-bc63-4385-9810-2b0bc33ec5d9"
      },
      "execution_count": 45,
      "outputs": [
        {
          "output_type": "execute_result",
          "data": {
            "text/plain": [
              "array([[7., 7., 7., 7., 7.],\n",
              "       [7., 7., 7., 7., 7.],\n",
              "       [7., 7., 7., 7., 7.]])"
            ]
          },
          "metadata": {},
          "execution_count": 45
        }
      ]
    },
    {
      "cell_type": "code",
      "source": [
        "# 9.\tCreate a 3*3 identity numpy matrix with ones on the diagonal and zeros elsewhere\n",
        "g = np.identity(3)\n",
        "g"
      ],
      "metadata": {
        "colab": {
          "base_uri": "https://localhost:8080/"
        },
        "id": "uR97_l9CwSXz",
        "outputId": "37e17ce4-7330-4e84-93d1-7b580adf9f9d"
      },
      "execution_count": 46,
      "outputs": [
        {
          "output_type": "execute_result",
          "data": {
            "text/plain": [
              "array([[1., 0., 0.],\n",
              "       [0., 1., 0.],\n",
              "       [0., 0., 1.]])"
            ]
          },
          "metadata": {},
          "execution_count": 46
        }
      ]
    },
    {
      "cell_type": "code",
      "source": [
        "#10. Create a numpy array, filled with 3 random integer values between 1 and 10.\n",
        "r = np.random.randint(10, size=(1,3))\n",
        "r"
      ],
      "metadata": {
        "colab": {
          "base_uri": "https://localhost:8080/"
        },
        "id": "Yetfp9WmxCL5",
        "outputId": "51ce8439-5a44-4c15-dea8-dcc9287b6fa4"
      },
      "execution_count": 48,
      "outputs": [
        {
          "output_type": "execute_result",
          "data": {
            "text/plain": [
              "array([[0, 5, 7]])"
            ]
          },
          "metadata": {},
          "execution_count": 48
        }
      ]
    },
    {
      "cell_type": "code",
      "source": [
        "#11. Create a 3*3*3 numpy matrix, filled with random float values.\n",
        "f = np.random.rand(3,3,3)\n",
        "f"
      ],
      "metadata": {
        "colab": {
          "base_uri": "https://localhost:8080/"
        },
        "id": "tc5Lq3g2yCQ7",
        "outputId": "05b33644-3018-41ea-bf6f-35f18d87ef75"
      },
      "execution_count": 50,
      "outputs": [
        {
          "output_type": "execute_result",
          "data": {
            "text/plain": [
              "array([[[0.02377276, 0.80725028, 0.06664094],\n",
              "        [0.87434521, 0.87085029, 0.43907501],\n",
              "        [0.19707781, 0.20770074, 0.75355917]],\n",
              "\n",
              "       [[0.80690472, 0.23120999, 0.82241172],\n",
              "        [0.60765487, 0.28138344, 0.83070269],\n",
              "        [0.52238279, 0.22234514, 0.32155084]],\n",
              "\n",
              "       [[0.1574787 , 0.9097292 , 0.50739481],\n",
              "        [0.52164171, 0.26332882, 0.02243361],\n",
              "        [0.67503398, 0.21032987, 0.1713283 ]]])"
            ]
          },
          "metadata": {},
          "execution_count": 50
        }
      ]
    },
    {
      "cell_type": "code",
      "source": [
        "#12. Create a numpy array with numbers from 1 to 10\n",
        "h = np.arange(1,11)\n",
        "h"
      ],
      "metadata": {
        "colab": {
          "base_uri": "https://localhost:8080/"
        },
        "id": "3DCtLIlGyfYL",
        "outputId": "c9cf22b3-ab8e-4546-ca1f-d5492c049c74"
      },
      "execution_count": 51,
      "outputs": [
        {
          "output_type": "execute_result",
          "data": {
            "text/plain": [
              "array([ 1,  2,  3,  4,  5,  6,  7,  8,  9, 10])"
            ]
          },
          "metadata": {},
          "execution_count": 51
        }
      ]
    },
    {
      "cell_type": "code",
      "source": [
        "#13\tCreate a numpy array with the odd numbers between 1 to 10\n",
        "o = np.arange(1,11,2)\n",
        "o"
      ],
      "metadata": {
        "colab": {
          "base_uri": "https://localhost:8080/"
        },
        "id": "fEyLWkMyypK8",
        "outputId": "cacaea8a-72a1-4f05-8069-9f63b994109d"
      },
      "execution_count": 52,
      "outputs": [
        {
          "output_type": "execute_result",
          "data": {
            "text/plain": [
              "array([1, 3, 5, 7, 9])"
            ]
          },
          "metadata": {},
          "execution_count": 52
        }
      ]
    },
    {
      "cell_type": "code",
      "source": [
        "#14.\tCreate a numpy array with numbers from 1 to 10, in descending order.\n",
        "d = np.arange(1,11)\n",
        "e = np.sort(d)[::-1]\n",
        "e"
      ],
      "metadata": {
        "colab": {
          "base_uri": "https://localhost:8080/"
        },
        "id": "zDM569gOyz7x",
        "outputId": "896dfb91-ee9e-4282-ee0d-14cabd176917"
      },
      "execution_count": 58,
      "outputs": [
        {
          "output_type": "execute_result",
          "data": {
            "text/plain": [
              "array([10,  9,  8,  7,  6,  5,  4,  3,  2,  1])"
            ]
          },
          "metadata": {},
          "execution_count": 58
        }
      ]
    },
    {
      "cell_type": "code",
      "source": [
        "#15.\tCreate a 3*3 numpy matrix, filled with values ranging from 0 to 8\n",
        "m = np.random.randint(0,9, size=(3,3))\n",
        "m"
      ],
      "metadata": {
        "colab": {
          "base_uri": "https://localhost:8080/"
        },
        "id": "2D3bBSW5z1jq",
        "outputId": "f86e09f3-d796-4b57-b174-8057ac2255f2"
      },
      "execution_count": 62,
      "outputs": [
        {
          "output_type": "execute_result",
          "data": {
            "text/plain": [
              "array([[2, 2, 7],\n",
              "       [7, 1, 6],\n",
              "       [1, 4, 3]])"
            ]
          },
          "metadata": {},
          "execution_count": 62
        }
      ]
    },
    {
      "cell_type": "markdown",
      "source": [
        "# **PART 2:Array indexing**"
      ],
      "metadata": {
        "id": "SuqU_oOQ0Nci"
      }
    },
    {
      "cell_type": "code",
      "source": [
        "#1.\tGiven the X numpy array, show its first element\n",
        "\n",
        "X = np.array(['A','B','C','D','E'])\n",
        "X[0]"
      ],
      "metadata": {
        "colab": {
          "base_uri": "https://localhost:8080/",
          "height": 36
        },
        "id": "4XhzzMFM00sb",
        "outputId": "fb1a281e-a3a8-4b13-97d1-9a2bb26bce6b"
      },
      "execution_count": 63,
      "outputs": [
        {
          "output_type": "execute_result",
          "data": {
            "text/plain": [
              "'A'"
            ],
            "application/vnd.google.colaboratory.intrinsic+json": {
              "type": "string"
            }
          },
          "metadata": {},
          "execution_count": 63
        }
      ]
    },
    {
      "cell_type": "code",
      "source": [
        "#2.\tGiven the X numpy array, show its last element\n",
        "\n",
        "X = np.array(['A','B','C','D','E'])\n",
        "X[-1]"
      ],
      "metadata": {
        "colab": {
          "base_uri": "https://localhost:8080/",
          "height": 36
        },
        "id": "9n_et8tI1A-P",
        "outputId": "1bdd5677-debe-48aa-a43b-7d9d6d5dd698"
      },
      "execution_count": 64,
      "outputs": [
        {
          "output_type": "execute_result",
          "data": {
            "text/plain": [
              "'E'"
            ],
            "application/vnd.google.colaboratory.intrinsic+json": {
              "type": "string"
            }
          },
          "metadata": {},
          "execution_count": 64
        }
      ]
    },
    {
      "cell_type": "code",
      "source": [
        "#3.\tGiven the X numpy array, show its first three elements\n",
        "\n",
        "X = np.array(['A','B','C','D','E'])\n",
        "X[0:3]"
      ],
      "metadata": {
        "colab": {
          "base_uri": "https://localhost:8080/"
        },
        "id": "1fGZbVG_1F0N",
        "outputId": "e791634d-4e37-4884-b54e-865dcea06428"
      },
      "execution_count": 65,
      "outputs": [
        {
          "output_type": "execute_result",
          "data": {
            "text/plain": [
              "array(['A', 'B', 'C'], dtype='<U1')"
            ]
          },
          "metadata": {},
          "execution_count": 65
        }
      ]
    },
    {
      "cell_type": "code",
      "source": [
        "#4.\tGiven the X numpy array, show all middle elements\n",
        "\n",
        "X = np.array(['A','B','C','D','E'])\n",
        "X[1:4]"
      ],
      "metadata": {
        "colab": {
          "base_uri": "https://localhost:8080/"
        },
        "id": "ZEak6qPR1Lks",
        "outputId": "c8f341d9-7738-46f4-da17-3ada2e0819df"
      },
      "execution_count": 67,
      "outputs": [
        {
          "output_type": "execute_result",
          "data": {
            "text/plain": [
              "array(['B', 'C', 'D'], dtype='<U1')"
            ]
          },
          "metadata": {},
          "execution_count": 67
        }
      ]
    },
    {
      "cell_type": "code",
      "source": [
        "#5.\tGiven the X numpy array, show the elements in reverse position.\n",
        "\n",
        "X = np.array(['A','B','C','D','E'])\n",
        "X[::-1]"
      ],
      "metadata": {
        "colab": {
          "base_uri": "https://localhost:8080/"
        },
        "id": "TuhG6PyX1_iK",
        "outputId": "9a5e5592-01dc-4a1e-e7a9-fd68d724d574"
      },
      "execution_count": 68,
      "outputs": [
        {
          "output_type": "execute_result",
          "data": {
            "text/plain": [
              "array(['E', 'D', 'C', 'B', 'A'], dtype='<U1')"
            ]
          },
          "metadata": {},
          "execution_count": 68
        }
      ]
    },
    {
      "cell_type": "code",
      "source": [
        "#6.\tGiven the X numpy array, show the elements in an odd position.\n",
        "\n",
        "X = np.array(['A','B','C','D','E'])\n",
        "X[0::2]"
      ],
      "metadata": {
        "colab": {
          "base_uri": "https://localhost:8080/"
        },
        "id": "StERtYnT2FZC",
        "outputId": "5cbb531f-286e-4263-fffd-8d13b0976fd5"
      },
      "execution_count": 70,
      "outputs": [
        {
          "output_type": "execute_result",
          "data": {
            "text/plain": [
              "array(['A', 'C', 'E'], dtype='<U1')"
            ]
          },
          "metadata": {},
          "execution_count": 70
        }
      ]
    },
    {
      "cell_type": "code",
      "source": [
        "#7.\tGiven the X numpy matrix, show the first row’s elements.\n",
        "\n",
        "X = np.array([\n",
        "    [1,   2,  3,  4],\n",
        "    [5,   6,  7,  8],\n",
        "    [9,  10, 11, 12],\n",
        "    [13, 14, 15, 16]\n",
        "])\n",
        "X[0]"
      ],
      "metadata": {
        "colab": {
          "base_uri": "https://localhost:8080/"
        },
        "id": "Y-Nw2ECE2Sk0",
        "outputId": "27d3dcd4-3389-474c-ffef-133f9e3e453e"
      },
      "execution_count": 72,
      "outputs": [
        {
          "output_type": "execute_result",
          "data": {
            "text/plain": [
              "array([1, 2, 3, 4])"
            ]
          },
          "metadata": {},
          "execution_count": 72
        }
      ]
    },
    {
      "cell_type": "code",
      "source": [
        "#8.\tGiven the X numpy matrix, show the last row elements.\n",
        "\n",
        "X = np.array([\n",
        "    [1,   2,  3,  4],\n",
        "    [5,   6,  7,  8],\n",
        "    [9,  10, 11, 12],\n",
        "    [13, 14, 15, 16]\n",
        "])\n",
        "X[3]"
      ],
      "metadata": {
        "colab": {
          "base_uri": "https://localhost:8080/"
        },
        "id": "sRhQQGug2hsT",
        "outputId": "49f296b4-e265-4a1a-a8b0-57c720c50f39"
      },
      "execution_count": 73,
      "outputs": [
        {
          "output_type": "execute_result",
          "data": {
            "text/plain": [
              "array([13, 14, 15, 16])"
            ]
          },
          "metadata": {},
          "execution_count": 73
        }
      ]
    },
    {
      "cell_type": "code",
      "source": [
        "#9.\tGiven the X numpy matrix, show the first element on first row\n",
        "\n",
        "X = np.array([\n",
        "    [1, 2, 3, 4],\n",
        "    [5, 6, 7, 8],\n",
        "    [9, 10, 11, 12],\n",
        "    [13, 14, 15, 16]\n",
        "])\n",
        "X[0][0]"
      ],
      "metadata": {
        "colab": {
          "base_uri": "https://localhost:8080/"
        },
        "id": "5Nqv-Lmi2nIR",
        "outputId": "8bbcb5a3-2395-404e-a1b2-184c7ff538e4"
      },
      "execution_count": 74,
      "outputs": [
        {
          "output_type": "execute_result",
          "data": {
            "text/plain": [
              "1"
            ]
          },
          "metadata": {},
          "execution_count": 74
        }
      ]
    },
    {
      "cell_type": "code",
      "source": [
        "#10.\tGiven the X numpy matrix, show the last element on last row.\n",
        "\n",
        "X = np.array([\n",
        "    [1,   2,  3,  4],\n",
        "    [5,   6,  7,  8],\n",
        "    [9,  10, 11, 12],\n",
        "    [13, 14, 15, 16]\n",
        "])\n",
        "X[3][-1]"
      ],
      "metadata": {
        "colab": {
          "base_uri": "https://localhost:8080/"
        },
        "id": "rQaX4qak2wvT",
        "outputId": "9cd48dd4-3a09-467f-bd2b-c675361e3b2c"
      },
      "execution_count": 75,
      "outputs": [
        {
          "output_type": "execute_result",
          "data": {
            "text/plain": [
              "16"
            ]
          },
          "metadata": {},
          "execution_count": 75
        }
      ]
    },
    {
      "cell_type": "code",
      "source": [
        "#11.\tGiven the X numpy matrix, show the first two elements on the first two rows.\n",
        "\n",
        "X = np.array([\n",
        "    [1,   2,  3,  4],\n",
        "    [5,   6,  7,  8],\n",
        "    [9,  10, 11, 12],\n",
        "    [13, 14, 15, 16]\n",
        "])\n",
        "#row  column\n",
        "X[:2, :2]"
      ],
      "metadata": {
        "colab": {
          "base_uri": "https://localhost:8080/"
        },
        "id": "teC8GwM8230I",
        "outputId": "ca42ab17-b7df-4fe1-914f-d2dbb61ddf94"
      },
      "execution_count": 83,
      "outputs": [
        {
          "output_type": "execute_result",
          "data": {
            "text/plain": [
              "array([[1, 2],\n",
              "       [5, 6]])"
            ]
          },
          "metadata": {},
          "execution_count": 83
        }
      ]
    },
    {
      "cell_type": "code",
      "source": [
        "#12.\tGiven the X numpy matrix, show the last two elements on the last two rows\n",
        "\n",
        "X = np.array([\n",
        "    [1,   2,  3,  4],\n",
        "    [5,   6,  7,  8],\n",
        "    [9,  10, 11, 12],\n",
        "    [13, 14, 15, 16]\n",
        "])\n",
        "X[2:, 2:]"
      ],
      "metadata": {
        "colab": {
          "base_uri": "https://localhost:8080/"
        },
        "id": "Xu2LI0_o3z2h",
        "outputId": "4f84986a-5624-4c69-ceba-328de9a09317"
      },
      "execution_count": 95,
      "outputs": [
        {
          "output_type": "execute_result",
          "data": {
            "text/plain": [
              "array([[11, 12],\n",
              "       [15, 16]])"
            ]
          },
          "metadata": {},
          "execution_count": 95
        }
      ]
    },
    {
      "cell_type": "markdown",
      "source": [
        "# **PART 3: Array manipulation**"
      ],
      "metadata": {
        "id": "OnukOLRL48oL"
      }
    },
    {
      "cell_type": "code",
      "source": [
        "#1.\tConvert the given integer numpy array to float (you need to google the function that will help you do this)\n",
        "\n",
        "X = [-5, -3, 0, 10, 40]\n",
        "X = np.array(X)\n",
        "print(type(X))\n",
        "\n",
        "Y = X.astype(float)\n",
        "print(Y)"
      ],
      "metadata": {
        "colab": {
          "base_uri": "https://localhost:8080/"
        },
        "id": "D5bV-OiG5Ntj",
        "outputId": "aca6c057-74df-411c-ee0a-45a9acfa4cb6"
      },
      "execution_count": 106,
      "outputs": [
        {
          "output_type": "stream",
          "name": "stdout",
          "text": [
            "<class 'numpy.ndarray'>\n",
            "[-5. -3.  0. 10. 40.]\n"
          ]
        }
      ]
    },
    {
      "cell_type": "code",
      "source": [
        "#2.\tReverse the given numpy array (first element becomes last) through indexing\n",
        "\n",
        "X = [-5, -3, 0, 10, 40]\n",
        "X =np.array(X)\n",
        "X[::-1]"
      ],
      "metadata": {
        "colab": {
          "base_uri": "https://localhost:8080/"
        },
        "id": "a4nOoBtu64TZ",
        "outputId": "be62abd2-eca5-418c-944c-7c1b3f83a967"
      },
      "execution_count": 109,
      "outputs": [
        {
          "output_type": "execute_result",
          "data": {
            "text/plain": [
              "array([40, 10,  0, -3, -5])"
            ]
          },
          "metadata": {},
          "execution_count": 109
        }
      ]
    },
    {
      "cell_type": "code",
      "source": [
        "#3.\tGiven the X numpy array, set the fifth element equal to 1\n",
        "\n",
        "X = np.zeros(10)\n",
        "X[4] =1\n",
        "X"
      ],
      "metadata": {
        "colab": {
          "base_uri": "https://localhost:8080/"
        },
        "id": "jFafbiL37K0x",
        "outputId": "359e1b35-4443-4ea7-e47c-c440d21925cd"
      },
      "execution_count": 116,
      "outputs": [
        {
          "output_type": "execute_result",
          "data": {
            "text/plain": [
              "array([0., 0., 0., 0., 1., 0., 0., 0., 0., 0.])"
            ]
          },
          "metadata": {},
          "execution_count": 116
        }
      ]
    },
    {
      "cell_type": "code",
      "source": [
        "#4.\tGiven the X numpy matrix, change the last row with all 1\n",
        "\n",
        "X = np.array([\n",
        "    [1,   2,  3,  4],\n",
        "    [5,   6,  7,  8],\n",
        "    [9,  10, 11, 12],\n",
        "    [13, 14, 15, 16]\n",
        "])\n",
        "X[-1] = 1\n",
        "X"
      ],
      "metadata": {
        "colab": {
          "base_uri": "https://localhost:8080/"
        },
        "id": "a0TFmJlF8X27",
        "outputId": "2ced2d47-5704-4a67-b49c-bbed6e16e4e9"
      },
      "execution_count": 118,
      "outputs": [
        {
          "output_type": "execute_result",
          "data": {
            "text/plain": [
              "array([[ 1,  2,  3,  4],\n",
              "       [ 5,  6,  7,  8],\n",
              "       [ 9, 10, 11, 12],\n",
              "       [ 1,  1,  1,  1]])"
            ]
          },
          "metadata": {},
          "execution_count": 118
        }
      ]
    },
    {
      "cell_type": "code",
      "source": [
        "#5.\tGiven the X numpy matrix, add 5 to every element\n",
        "\n",
        "X = np.array([\n",
        "    [1,   2,  3,  4],\n",
        "    [5,   6,  7,  8],\n",
        "    [9,  10, 11, 12],\n",
        "    [13, 14, 15, 16]\n",
        "])\n",
        "X +=5\n",
        "X"
      ],
      "metadata": {
        "colab": {
          "base_uri": "https://localhost:8080/"
        },
        "id": "sa6wy4CF8gfR",
        "outputId": "401f09ca-24c6-43f5-e282-a91326f096bc"
      },
      "execution_count": 120,
      "outputs": [
        {
          "output_type": "execute_result",
          "data": {
            "text/plain": [
              "array([[ 6,  7,  8,  9],\n",
              "       [10, 11, 12, 13],\n",
              "       [14, 15, 16, 17],\n",
              "       [18, 19, 20, 21]])"
            ]
          },
          "metadata": {},
          "execution_count": 120
        }
      ]
    },
    {
      "cell_type": "code",
      "source": [
        "print(\".▀█▀.█▄█.█▀█.█▄.█.█▄▀　█▄█.█▀█.█─█\\n\"\n",
        "\"─.█.─█▀█.█▀█.█.▀█.█▀▄　─█.─█▄█.█▄█\")"
      ],
      "metadata": {
        "colab": {
          "base_uri": "https://localhost:8080/"
        },
        "id": "-V2y29pY8qdm",
        "outputId": "4f94036d-4c31-49cf-ed4f-5215fae4f1ab"
      },
      "execution_count": 126,
      "outputs": [
        {
          "output_type": "stream",
          "name": "stdout",
          "text": [
            ".▀█▀.█▄█.█▀█.█▄.█.█▄▀　█▄█.█▀█.█─█\n",
            "─.█.─█▀█.█▀█.█.▀█.█▀▄　─█.─█▄█.█▄█\n"
          ]
        }
      ]
    }
  ]
}